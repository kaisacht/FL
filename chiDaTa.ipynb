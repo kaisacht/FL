{
 "cells": [
  {
   "cell_type": "code",
   "execution_count": 1,
   "metadata": {},
   "outputs": [],
   "source": [
    "from torchvision import datasets, transforms\n",
    "import numpy as np"
   ]
  },
  {
   "cell_type": "code",
   "execution_count": 2,
   "metadata": {},
   "outputs": [],
   "source": [
    "trans_mnist = transforms.Compose(\n",
    "    [transforms.ToTensor(), transforms.Normalize((0.1307,), (0.3081,))])\n",
    "dataset_train = datasets.MNIST(\n",
    "    '../data/mnist/', train=True, download=True, transform=trans_mnist)"
   ]
  },
  {
   "cell_type": "code",
   "execution_count": 79,
   "metadata": {},
   "outputs": [],
   "source": [
    "def group(datasets):\n",
    "    dict_class = {}\n",
    "    for iter in range(len(datasets)):\n",
    "        label = datasets[iter][1]  # Lấy nhãn của mẫu dữ liệu thứ i\n",
    "        if label not in dict_class:\n",
    "            dict_class[label] = set()  # Khởi tạo tập hợp nếu nhãn chưa tồn tại trong dict_class\n",
    "        dict_class[label].add(iter)  # Thêm chỉ mục i vào tập hợp tương ứng với nhãn\n",
    "    return dict_class"
   ]
  },
  {
   "cell_type": "code",
   "execution_count": 95,
   "metadata": {},
   "outputs": [],
   "source": [
    "def non_iid_mnist(datasets, number_user, number_class, q):\n",
    "    #q ty le lon nhat chia cho nho nhat q =10 [10,10,10,10,101,10,10,10,10,10]\n",
    "    dict_user  = {j: set() for j in range(number_user)}\n",
    "    num_per_user = len(datasets)// number_user\n",
    "    dict_class = group(datasets)\n",
    "    for ii in range(number_class):\n",
    "        num_per_user = min(num_per_user, len(dict_class[ii])//number_class)\n",
    "    min_per_class = num_per_user // (q + number_class -1)\n",
    "    print(num_per_user)\n",
    "    for i in range(number_class):\n",
    "        min_index = 0\n",
    "        for j in range(number_user):\n",
    "            my_list = list(dict_class[i])\n",
    "            if (j - i) % number_class == 0:\n",
    "                dict_user[j].update(set(my_list[k] for k in range(min_index, min_index + min_per_class * q)))\n",
    "                min_index += min_per_class*q -1\n",
    "                \n",
    "            else:\n",
    "                dict_user[j].update(set(my_list[k] for k in range(min_index, min_index + min_per_class)))\n",
    "                min_index += min_per_class -1\n",
    "    return dict_user"
   ]
  },
  {
   "cell_type": "code",
   "execution_count": 98,
   "metadata": {},
   "outputs": [
    {
     "name": "stdout",
     "output_type": "stream",
     "text": [
      "542\n"
     ]
    }
   ],
   "source": [
    "r = non_iid_mnist(dataset_train, 100, 10, 10)"
   ]
  },
  {
   "cell_type": "code",
   "execution_count": 99,
   "metadata": {},
   "outputs": [
    {
     "name": "stdout",
     "output_type": "stream",
     "text": [
      "client:  0 [280, 28, 28, 28, 28, 28, 28, 28, 28, 28]\n",
      "client:  1 [28, 280, 28, 28, 28, 28, 28, 28, 28, 28]\n",
      "client:  2 [28, 28, 280, 28, 28, 28, 28, 28, 28, 28]\n",
      "client:  3 [28, 28, 28, 280, 28, 28, 28, 28, 28, 28]\n",
      "client:  4 [28, 28, 28, 28, 280, 28, 28, 28, 28, 28]\n",
      "client:  5 [28, 28, 28, 28, 28, 280, 28, 28, 28, 28]\n",
      "client:  6 [28, 28, 28, 28, 28, 28, 280, 28, 28, 28]\n",
      "client:  7 [28, 28, 28, 28, 28, 28, 28, 280, 28, 28]\n",
      "client:  8 [28, 28, 28, 28, 28, 28, 28, 28, 280, 28]\n",
      "client:  9 [28, 28, 28, 28, 28, 28, 28, 28, 28, 280]\n",
      "client:  10 [280, 28, 28, 28, 28, 28, 28, 28, 28, 28]\n",
      "client:  11 [28, 280, 28, 28, 28, 28, 28, 28, 28, 28]\n",
      "client:  12 [28, 28, 280, 28, 28, 28, 28, 28, 28, 28]\n",
      "client:  13 [28, 28, 28, 280, 28, 28, 28, 28, 28, 28]\n",
      "client:  14 [28, 28, 28, 28, 280, 28, 28, 28, 28, 28]\n",
      "client:  15 [28, 28, 28, 28, 28, 280, 28, 28, 28, 28]\n",
      "client:  16 [28, 28, 28, 28, 28, 28, 280, 28, 28, 28]\n",
      "client:  17 [28, 28, 28, 28, 28, 28, 28, 280, 28, 28]\n",
      "client:  18 [28, 28, 28, 28, 28, 28, 28, 28, 280, 28]\n",
      "client:  19 [28, 28, 28, 28, 28, 28, 28, 28, 28, 280]\n",
      "client:  20 [280, 28, 28, 28, 28, 28, 28, 28, 28, 28]\n",
      "client:  21 [28, 280, 28, 28, 28, 28, 28, 28, 28, 28]\n",
      "client:  22 [28, 28, 280, 28, 28, 28, 28, 28, 28, 28]\n",
      "client:  23 [28, 28, 28, 280, 28, 28, 28, 28, 28, 28]\n",
      "client:  24 [28, 28, 28, 28, 280, 28, 28, 28, 28, 28]\n",
      "client:  25 [28, 28, 28, 28, 28, 280, 28, 28, 28, 28]\n",
      "client:  26 [28, 28, 28, 28, 28, 28, 280, 28, 28, 28]\n",
      "client:  27 [28, 28, 28, 28, 28, 28, 28, 280, 28, 28]\n",
      "client:  28 [28, 28, 28, 28, 28, 28, 28, 28, 280, 28]\n",
      "client:  29 [28, 28, 28, 28, 28, 28, 28, 28, 28, 280]\n",
      "client:  30 [280, 28, 28, 28, 28, 28, 28, 28, 28, 28]\n",
      "client:  31 [28, 280, 28, 28, 28, 28, 28, 28, 28, 28]\n",
      "client:  32 [28, 28, 280, 28, 28, 28, 28, 28, 28, 28]\n",
      "client:  33 [28, 28, 28, 280, 28, 28, 28, 28, 28, 28]\n",
      "client:  34 [28, 28, 28, 28, 280, 28, 28, 28, 28, 28]\n",
      "client:  35 [28, 28, 28, 28, 28, 280, 28, 28, 28, 28]\n",
      "client:  36 [28, 28, 28, 28, 28, 28, 280, 28, 28, 28]\n",
      "client:  37 [28, 28, 28, 28, 28, 28, 28, 280, 28, 28]\n",
      "client:  38 [28, 28, 28, 28, 28, 28, 28, 28, 280, 28]\n",
      "client:  39 [28, 28, 28, 28, 28, 28, 28, 28, 28, 280]\n",
      "client:  40 [280, 28, 28, 28, 28, 28, 28, 28, 28, 28]\n",
      "client:  41 [28, 280, 28, 28, 28, 28, 28, 28, 28, 28]\n",
      "client:  42 [28, 28, 280, 28, 28, 28, 28, 28, 28, 28]\n",
      "client:  43 [28, 28, 28, 280, 28, 28, 28, 28, 28, 28]\n",
      "client:  44 [28, 28, 28, 28, 280, 28, 28, 28, 28, 28]\n",
      "client:  45 [28, 28, 28, 28, 28, 280, 28, 28, 28, 28]\n",
      "client:  46 [28, 28, 28, 28, 28, 28, 280, 28, 28, 28]\n",
      "client:  47 [28, 28, 28, 28, 28, 28, 28, 280, 28, 28]\n",
      "client:  48 [28, 28, 28, 28, 28, 28, 28, 28, 280, 28]\n",
      "client:  49 [28, 28, 28, 28, 28, 28, 28, 28, 28, 280]\n",
      "client:  50 [280, 28, 28, 28, 28, 28, 28, 28, 28, 28]\n",
      "client:  51 [28, 280, 28, 28, 28, 28, 28, 28, 28, 28]\n",
      "client:  52 [28, 28, 280, 28, 28, 28, 28, 28, 28, 28]\n",
      "client:  53 [28, 28, 28, 280, 28, 28, 28, 28, 28, 28]\n",
      "client:  54 [28, 28, 28, 28, 280, 28, 28, 28, 28, 28]\n",
      "client:  55 [28, 28, 28, 28, 28, 280, 28, 28, 28, 28]\n",
      "client:  56 [28, 28, 28, 28, 28, 28, 280, 28, 28, 28]\n",
      "client:  57 [28, 28, 28, 28, 28, 28, 28, 280, 28, 28]\n",
      "client:  58 [28, 28, 28, 28, 28, 28, 28, 28, 280, 28]\n",
      "client:  59 [28, 28, 28, 28, 28, 28, 28, 28, 28, 280]\n",
      "client:  60 [280, 28, 28, 28, 28, 28, 28, 28, 28, 28]\n",
      "client:  61 [28, 280, 28, 28, 28, 28, 28, 28, 28, 28]\n",
      "client:  62 [28, 28, 280, 28, 28, 28, 28, 28, 28, 28]\n",
      "client:  63 [28, 28, 28, 280, 28, 28, 28, 28, 28, 28]\n",
      "client:  64 [28, 28, 28, 28, 280, 28, 28, 28, 28, 28]\n",
      "client:  65 [28, 28, 28, 28, 28, 280, 28, 28, 28, 28]\n",
      "client:  66 [28, 28, 28, 28, 28, 28, 280, 28, 28, 28]\n",
      "client:  67 [28, 28, 28, 28, 28, 28, 28, 280, 28, 28]\n",
      "client:  68 [28, 28, 28, 28, 28, 28, 28, 28, 280, 28]\n",
      "client:  69 [28, 28, 28, 28, 28, 28, 28, 28, 28, 280]\n",
      "client:  70 [280, 28, 28, 28, 28, 28, 28, 28, 28, 28]\n",
      "client:  71 [28, 280, 28, 28, 28, 28, 28, 28, 28, 28]\n",
      "client:  72 [28, 28, 280, 28, 28, 28, 28, 28, 28, 28]\n",
      "client:  73 [28, 28, 28, 280, 28, 28, 28, 28, 28, 28]\n",
      "client:  74 [28, 28, 28, 28, 280, 28, 28, 28, 28, 28]\n",
      "client:  75 [28, 28, 28, 28, 28, 280, 28, 28, 28, 28]\n",
      "client:  76 [28, 28, 28, 28, 28, 28, 280, 28, 28, 28]\n",
      "client:  77 [28, 28, 28, 28, 28, 28, 28, 280, 28, 28]\n",
      "client:  78 [28, 28, 28, 28, 28, 28, 28, 28, 280, 28]\n",
      "client:  79 [28, 28, 28, 28, 28, 28, 28, 28, 28, 280]\n",
      "client:  80 [280, 28, 28, 28, 28, 28, 28, 28, 28, 28]\n",
      "client:  81 [28, 280, 28, 28, 28, 28, 28, 28, 28, 28]\n",
      "client:  82 [28, 28, 280, 28, 28, 28, 28, 28, 28, 28]\n",
      "client:  83 [28, 28, 28, 280, 28, 28, 28, 28, 28, 28]\n",
      "client:  84 [28, 28, 28, 28, 280, 28, 28, 28, 28, 28]\n",
      "client:  85 [28, 28, 28, 28, 28, 280, 28, 28, 28, 28]\n",
      "client:  86 [28, 28, 28, 28, 28, 28, 280, 28, 28, 28]\n",
      "client:  87 [28, 28, 28, 28, 28, 28, 28, 280, 28, 28]\n",
      "client:  88 [28, 28, 28, 28, 28, 28, 28, 28, 280, 28]\n",
      "client:  89 [28, 28, 28, 28, 28, 28, 28, 28, 28, 280]\n",
      "client:  90 [280, 28, 28, 28, 28, 28, 28, 28, 28, 28]\n",
      "client:  91 [28, 280, 28, 28, 28, 28, 28, 28, 28, 28]\n",
      "client:  92 [28, 28, 280, 28, 28, 28, 28, 28, 28, 28]\n",
      "client:  93 [28, 28, 28, 280, 28, 28, 28, 28, 28, 28]\n",
      "client:  94 [28, 28, 28, 28, 280, 28, 28, 28, 28, 28]\n",
      "client:  95 [28, 28, 28, 28, 28, 280, 28, 28, 28, 28]\n",
      "client:  96 [28, 28, 28, 28, 28, 28, 280, 28, 28, 28]\n",
      "client:  97 [28, 28, 28, 28, 28, 28, 28, 280, 28, 28]\n",
      "client:  98 [28, 28, 28, 28, 28, 28, 28, 28, 280, 28]\n",
      "client:  99 [28, 28, 28, 28, 28, 28, 28, 28, 28, 280]\n"
     ]
    }
   ],
   "source": [
    "for i in range(100):\n",
    "    client  = [0,0,0,0,0,0,0,0,0,0]\n",
    "    for j in range(len(r[i])):\n",
    "        my_list = list(r[i])\n",
    "        idx = my_list[j]\n",
    "        label = dataset_train[idx][1]\n",
    "        client[label] += 1\n",
    "    print(\"client: \", i , client)\n",
    "    client = []"
   ]
  }
 ],
 "metadata": {
  "kernelspec": {
   "display_name": "Python 3",
   "language": "python",
   "name": "python3"
  },
  "language_info": {
   "codemirror_mode": {
    "name": "ipython",
    "version": 3
   },
   "file_extension": ".py",
   "mimetype": "text/x-python",
   "name": "python",
   "nbconvert_exporter": "python",
   "pygments_lexer": "ipython3",
   "version": "3.9.11"
  }
 },
 "nbformat": 4,
 "nbformat_minor": 2
}
