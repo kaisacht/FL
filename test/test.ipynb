{
 "cells": [
  {
   "cell_type": "code",
   "execution_count": 6,
   "metadata": {},
   "outputs": [
    {
     "name": "stdout",
     "output_type": "stream",
     "text": [
      "[1.0, 0.33333333333333326, -0.6666666666666667, -1.0, -0.9666666666666667, -0.96, -0.8133333333333334, -0.94, -0.94, -0.5333333333333333]\n"
     ]
    }
   ],
   "source": [
    "data = [300, 200, 50, 0, 5, 6, 28, 9,9,70]\n",
    "\n",
    "# Tìm giá trị lớn nhất và nhỏ nhất trong dữ liệu\n",
    "max_value = max(data)\n",
    "min_value = min(data)\n",
    "\n",
    "# Chuẩn hóa dữ liệu về khoảng [-1, 1]\n",
    "normalized_data = [((x - min_value) / (max_value - min_value)) * 2 - 1 for x in data]\n",
    "\n",
    "print(normalized_data)\n"
   ]
  },
  {
   "cell_type": "code",
   "execution_count": 10,
   "metadata": {},
   "outputs": [
    {
     "name": "stdout",
     "output_type": "stream",
     "text": [
      "[-0.51032366 -0.59710047 -0.09504091 -0.89123201  0.49290557  0.13949215\n",
      " -0.95258681  0.92144257 -0.67695861  0.0309527 ]\n"
     ]
    }
   ],
   "source": [
    "import numpy as np\n",
    "\n",
    "# Sinh mảng 10 phần tử ngẫu nhiên trong khoảng từ -1 đến 1\n",
    "random_array = np.random.uniform(-1, 1, 10)\n",
    "\n",
    "print(random_array)\n"
   ]
  },
  {
   "cell_type": "code",
   "execution_count": 11,
   "metadata": {},
   "outputs": [
    {
     "name": "stdout",
     "output_type": "stream",
     "text": [
      "[ 0.48967634 -0.26376714 -0.76170758 -1.89123201 -0.4737611  -0.82050785\n",
      " -1.76592015 -0.01855743 -1.61695861 -0.50238064]\n"
     ]
    }
   ],
   "source": [
    "print(normalized_data + random_array)"
   ]
  },
  {
   "cell_type": "code",
   "execution_count": 2,
   "metadata": {},
   "outputs": [
    {
     "name": "stdout",
     "output_type": "stream",
     "text": [
      "Số lượng tệp tin trong thư mục là: 836\n"
     ]
    }
   ],
   "source": [
    "import os\n",
    "def count_files_in_folder(folder_path):\n",
    "    try:\n",
    "        # Lấy danh sách các tệp và thư mục trong thư mục cụ thể\n",
    "        files = os.listdir(folder_path)\n",
    "        # Lọc ra chỉ các tệp tin (loại trừ thư mục)\n",
    "        file_count = sum(os.path.isfile(os.path.join(folder_path, file)) for file in files)\n",
    "        return file_count\n",
    "    except FileNotFoundError:\n",
    "        print(\"Thư mục không tồn tại.\")\n",
    "        return 0\n",
    "\n",
    "# Ví dụ sử dụng\n",
    "folder_path = '/home/dasvision/Desktop/Federated Learning/FL/save_result/all'\n",
    "print(f\"Số lượng tệp tin trong thư mục là: {count_files_in_folder(folder_path)}\")\n"
   ]
  }
 ],
 "metadata": {
  "kernelspec": {
   "display_name": "Python 3",
   "language": "python",
   "name": "python3"
  },
  "language_info": {
   "codemirror_mode": {
    "name": "ipython",
    "version": 3
   },
   "file_extension": ".py",
   "mimetype": "text/x-python",
   "name": "python",
   "nbconvert_exporter": "python",
   "pygments_lexer": "ipython3",
   "version": "3.11.7"
  }
 },
 "nbformat": 4,
 "nbformat_minor": 2
}
